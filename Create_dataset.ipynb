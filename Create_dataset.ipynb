{
 "cells": [
  {
   "cell_type": "markdown",
   "metadata": {},
   "source": [
    "# Load data"
   ]
  },
  {
   "cell_type": "code",
   "execution_count": 58,
   "metadata": {},
   "outputs": [],
   "source": [
    "import os\n",
    "import csv\n",
    "\n",
    "#Only get the files in the directory\n",
    "def get_files(path):\n",
    "    for file in os.listdir(path):\n",
    "        if os.path.isfile(os.path.join(path, file)):\n",
    "            yield file"
   ]
  },
  {
   "cell_type": "code",
   "execution_count": 59,
   "metadata": {},
   "outputs": [
    {
     "name": "stdout",
     "output_type": "stream",
     "text": [
      "['ADNI.027_S_1082.15T.AD_crop_nyul2f.nii', 'ADNI.012_S_0637.15T.NC_crop_nyul2f.nii', 'ADNI.022_S_0543.15T.AD_crop_nyul2f.nii', 'ADNI.011_S_0008.15T.NC_crop_nyul2f.nii', 'ADNI.007_S_1304.15T.AD_crop_nyul2f.nii', 'ADNI.023_S_0081.15T.NC_crop_nyul2f.nii', '0044_20140717_081021.nii', 'ADNI.011_S_0002.15T.NC_crop_nyul2f.nii', 'ADNI.020_S_0899.15T.NC_crop_nyul2f.nii', 'ADNI.012_S_0689.15T.AD_crop_nyul2f.nii', 'ADNI.007_S_0316.15T.AD_crop_nyul2f.nii', '0004_20131016_122002.nii', 'ADNI.020_S_0097.15T.NC_crop_nyul2f.nii', 'ADNI.022_S_0219.15T.AD_crop_nyul2f.nii', 'ADNI.009_S_1334.15T.AD_crop_nyul2f.nii', 'ADNI.018_S_0043.15T.NC_crop_nyul2f.nii', 'ADNI.021_S_1109.15T.AD_crop_nyul2f.nii', 'ADNI.023_S_0031.15T.NC_crop_nyul2f.nii', 'ADNI.007_S_0070.15T.NC_crop_nyul2f.nii', 'ADNI.027_S_1081.15T.AD_crop_nyul2f.nii', '0014_20131017_102848.nii', 'ADNI.021_S_0343.15T.AD_crop_nyul2f.nii', 'ADNI.011_S_0183.15T.AD_crop_nyul2f.nii', 'ADNI.023_S_1190.15T.NC_crop_nyul2f.nii', 'ADNI.005_S_0929.15T.AD_crop_nyul2f.nii', 'ADNI.021_S_0159.15T.NC_crop_nyul2f.nii', 'ADNI.009_S_0842.15T.NC_crop_nyul2f.nii', 'ADNI.006_S_0653.15T.AD_crop_nyul2f.nii', 'ADNI.024_S_1307.15T.AD_crop_nyul2f.nii', 'ADNI.023_S_0084.15T.AD_crop_nyul2f.nii', 'ADNI.027_S_0120.15T.NC_crop_nyul2f.nii', '0001_20131002_152839.nii', '0040_20140626_080742.nii', 'ADNI.022_S_0007.15T.AD_crop_nyul2f.nii', 'ADNI.012_S_1212.15T.NC_crop_nyul2f.nii', 'ADNI.024_S_0985.15T.NC_crop_nyul2f.nii', 'ADNI.016_S_0359.15T.NC_crop_nyul2f.nii', 'ADNI.021_S_0647.15T.NC_crop_nyul2f.nii', 'ADNI.009_S_0751.15T.NC_crop_nyul2f.nii', 'ADNI.027_S_1254.15T.AD_crop_nyul2f.nii', 'ADNI.014_S_0558.15T.NC_crop_nyul2f.nii', '0011_20131010_122639.nii', '0016_20131018_124934.nii', '0005_20130711_144142.nii', 'ADNI.006_S_0731.15T.NC_crop_nyul2f.nii', 'ADNI.010_S_0419.15T.NC_crop_nyul2f.nii', 'ADNI.023_S_0916.15T.AD_crop_nyul2f.nii', 'ADNI.021_S_0753.15T.AD_crop_nyul2f.nii', 'ADNI.011_S_0016.15T.NC_crop_nyul2f.nii', 'ADNI.010_S_0786.15T.AD_crop_nyul2f.nii', 'ADNI.023_S_0963.15T.NC_crop_nyul2f.nii', '0003_20131017_123130.nii', 'ADNI.020_S_0213.15T.AD_crop_nyul2f.nii', 'ADNI.014_S_0356.15T.AD_crop_nyul2f.nii', 'ADNI.014_S_1095.15T.AD_crop_nyul2f.nii', 'ADNI.016_S_1263.15T.AD_crop_nyul2f.nii', 'ADNI.006_S_0498.15T.NC_crop_nyul2f.nii', '0028_20140204_094132.nii', 'ADNI.023_S_1262.15T.AD_crop_nyul2f.nii', 'ADNI.023_S_0061.15T.NC_crop_nyul2f.nii', 'ADNI.011_S_0023.15T.NC_crop_nyul2f.nii', 'ADNI.029_S_0836.15T.AD_crop_nyul2f.nii', 'ADNI.018_S_0425.15T.NC_crop_nyul2f.nii', 'ADNI.020_S_0883.15T.NC_crop_nyul2f.nii', '0041_20140626_093331.nii', '0013_20131017_094514.nii', 'ADNI.018_S_0335.15T.AD_crop_nyul2f.nii', 'ADNI.024_S_1171.15T.AD_crop_nyul2f.nii', 'ADNI.007_S_0068.15T.NC_crop_nyul2f.nii', 'ADNI.010_S_0420.15T.NC_crop_nyul2f.nii', 'ADNI.006_S_0681.15T.NC_crop_nyul2f.nii', '0009_20131009_081336.nii', '0033_20140320_143917.nii', 'ADNI.005_S_1341.15T.AD_crop_nyul2f.nii', 'ADNI.011_S_0022.15T.NC_crop_nyul2f.nii', 'ADNI.012_S_0720.15T.AD_crop_nyul2f.nii', '0054_20141111_080631.nii', 'ADNI.023_S_0058.15T.NC_crop_nyul2f.nii', 'ADNI.022_S_0096.15T.NC_crop_nyul2f.nii', 'ADNI.014_S_0328.15T.AD_crop_nyul2f.nii', 'ADNI.020_S_1288.15T.NC_crop_nyul2f.nii', '0048_20140717_122904.nii', '0046_20140717_102509.nii', 'ADNI.023_S_0926.15T.NC_crop_nyul2f.nii', 'ADNI.012_S_0712.15T.AD_crop_nyul2f.nii', '0002_20131017_100605.nii', '0025_20140203_093954.nii', 'ADNI.018_S_0682.15T.AD_crop_nyul2f.nii', '0010_20131009_085418.nii', 'ADNI.022_S_0066.15T.NC_crop_nyul2f.nii', 'ADNI.011_S_0053.15T.AD_crop_nyul2f.nii', 'ADNI.010_S_0067.15T.NC_crop_nyul2f.nii', '0012_20131017_092502.nii', '0045_20140717_092133.nii', 'ADNI.022_S_0014.15T.NC_crop_nyul2f.nii', 'ADNI.010_S_0829.15T.AD_crop_nyul2f.nii']\n",
      "96\n",
      "96\n"
     ]
    }
   ],
   "source": [
    "img_path = '/Users/andersrosengaard/anaconda3/envs/pytorch_env/myProjects/DL_Assigment3/data/nifti'\n",
    "img_files = list(get_files(img_path))\n",
    "img_files.sort()\n",
    "\n",
    "#img_train = img_files[:70]\n",
    "img_train = img_files[0:4] #Temp for testing\n",
    "\n",
    "img_val = img_files[70:82]\n",
    "img_test = img_files[82:]\n",
    "print(len(img_files))\n",
    "\n",
    "mask_path = '/Users/andersrosengaard/anaconda3/envs/pytorch_env/myProjects/DL_Assigment3/data/nifti/labels'\n",
    "mask_files = os.listdir(mask_path)\n",
    "mask_files.sort()\n",
    "\n",
    "mask_train = mask_files[:70]\n",
    "mask_val = mask_files[70:82]\n",
    "mask_test = mask_files[82:]\n",
    "print(len(mask_files))"
   ]
  },
  {
   "cell_type": "markdown",
   "metadata": {},
   "source": [
    "# Write to .csv\n"
   ]
  },
  {
   "cell_type": "code",
   "execution_count": 60,
   "metadata": {},
   "outputs": [],
   "source": [
    "#Train set\n",
    "image_folder_path = \"/Users/andersrosengaard/anaconda3/envs/pytorch_env/myProjects/DL_Assigment3/data/nifti/\"\n",
    "mask_folder_path = \"/Users/andersrosengaard/anaconda3/envs/pytorch_env/myProjects/DL_Assigment3/data/nifti/labels/\"\n",
    "\n",
    "train_set_path = \"/Users/andersrosengaard/anaconda3/envs/pytorch_env/myProjects/DL_Assigment3/data/data_splits/train_set.csv\"\n",
    "with open(train_set_path , 'w', newline='') as file:\n",
    "   writer = csv.writer(file)\n",
    "   writer.writerow(['Image_path', 'Mask_path']) #Header\n",
    "   for i in range(len(img_train)):\n",
    "      image_path = os.path.join(image_folder_path, img_train[i]) #Path to the folder containing the images\n",
    "      mask_path = os.path.join(mask_folder_path, mask_train[i]) #Path to the folder containing the masks\n",
    "      writer.writerow([image_path, mask_path])\n",
    "\n",
    "\n",
    "\n",
    "#Validation set\n",
    "image_folder_path = \"/Users/andersrosengaard/anaconda3/envs/pytorch_env/myProjects/DL_Assigment3/data/nifti/\"\n",
    "mask_folder_path = \"/Users/andersrosengaard/anaconda3/envs/pytorch_env/myProjects/DL_Assigment3/data/nifti/labels/\"\n",
    "\n",
    "val_set_path = \"/Users/andersrosengaard/anaconda3/envs/pytorch_env/myProjects/DL_Assigment3/data/data_splits/val_set.csv\"\n",
    "with open(val_set_path , 'w', newline='') as file:\n",
    "   writer = csv.writer(file)\n",
    "   writer.writerow(['Image_path', 'Mask_path']) #Header\n",
    "   for i in range(len(img_val)):\n",
    "      image_path = os.path.join(image_folder_path, img_val[i]) #Path to the folder containing the images\n",
    "      mask_path = os.path.join(mask_folder_path, mask_val[i]) #Path to the folder containing the masks\n",
    "      writer.writerow([image_path, mask_path])\n",
    "\n",
    "\n",
    "\n",
    "#Test set\n",
    "image_folder_path = \"/Users/andersrosengaard/anaconda3/envs/pytorch_env/myProjects/DL_Assigment3/data/nifti/\"\n",
    "mask_folder_path = \"/Users/andersrosengaard/anaconda3/envs/pytorch_env/myProjects/DL_Assigment3/data/nifti/labels/\"\n",
    "\n",
    "test_set_path = \"/Users/andersrosengaard/anaconda3/envs/pytorch_env/myProjects/DL_Assigment3/data/data_splits/test_set.csv\"\n",
    "with open(test_set_path , 'w', newline='') as file:\n",
    "   writer = csv.writer(file)\n",
    "   writer.writerow(['Image_path', 'Mask_path']) #Header\n",
    "   for i in range(len(img_test)):\n",
    "      image_path = os.path.join(image_folder_path, img_test[i]) #Path to the folder containing the images\n",
    "      mask_path = os.path.join(mask_folder_path, mask_test[i]) #Path to the folder containing the masks\n",
    "      writer.writerow([image_path, mask_path])\n",
    "\n",
    "\n",
    "\n",
    "print('')\n",
    "print('Data splits are saved!')\n",
    "print('')"
   ]
  }
 ],
 "metadata": {
  "kernelspec": {
   "display_name": "pytorch_env",
   "language": "python",
   "name": "python3"
  },
  "language_info": {
   "codemirror_mode": {
    "name": "ipython",
    "version": 3
   },
   "file_extension": ".py",
   "mimetype": "text/x-python",
   "name": "python",
   "nbconvert_exporter": "python",
   "pygments_lexer": "ipython3",
   "version": "3.11.4"
  }
 },
 "nbformat": 4,
 "nbformat_minor": 2
}
